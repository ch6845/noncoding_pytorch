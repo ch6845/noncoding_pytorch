{
 "cells": [
  {
   "cell_type": "code",
   "execution_count": 1,
   "metadata": {},
   "outputs": [],
   "source": [
    "import numpy as np\n",
    "import torch\n",
    "import torch.optim as optim\n",
    "from torch.utils.data import DataLoader\n",
    "\n",
    "from dna_data import DeepSEA_Dataset\n",
    "from model import *"
   ]
  },
  {
   "cell_type": "code",
   "execution_count": 2,
   "metadata": {},
   "outputs": [],
   "source": [
    "import sys\n",
    "import logging\n",
    "import datetime\n",
    "\n",
    "log = logging.getLogger('snowdeer_log')\n",
    "log.setLevel(logging.DEBUG)\n",
    "\n",
    "log_file_name=sys.argv[-1].split('/')[-1].split('.')[-2].split('-')[-1]+'_'+datetime.datetime.now().strftime('%Y%m%d_%H%M%S')+'.log'\n",
    "fileHandler = logging.FileHandler(log_file_name)\n",
    "streamHandler = logging.StreamHandler()\n",
    "\n",
    "formatter = logging.Formatter(' %(asctime)s [%(levelname)s] (%(filename)s:%(lineno)d) > %(message)s')\n",
    "fileHandler.setFormatter(formatter)\n",
    "streamHandler.setFormatter(formatter)\n",
    "\n",
    "log.addHandler(fileHandler)\n",
    "log.addHandler(streamHandler)\n",
    "\n",
    "#log.debug('debug')"
   ]
  },
  {
   "cell_type": "code",
   "execution_count": 3,
   "metadata": {},
   "outputs": [
    {
     "name": "stdout",
     "output_type": "stream",
     "text": [
      "cuda:1\n"
     ]
    }
   ],
   "source": [
    "device = torch.device(\"cuda:1\" if torch.cuda.is_available() else \"cpu\")\n",
    "print(device)"
   ]
  },
  {
   "cell_type": "code",
   "execution_count": 4,
   "metadata": {},
   "outputs": [
    {
     "data": {
      "text/plain": [
       "DeepSEA(\n",
       "  (conv1): Conv1d(4, 320, kernel_size=(8,), stride=(1,))\n",
       "  (conv2): Conv1d(320, 480, kernel_size=(8,), stride=(1,))\n",
       "  (conv3): Conv1d(480, 960, kernel_size=(8,), stride=(1,))\n",
       "  (maxpool): MaxPool1d(kernel_size=4, stride=4, padding=0, dilation=1, ceil_mode=False)\n",
       "  (drop1): Dropout(p=0.2, inplace=False)\n",
       "  (drop2): Dropout(p=0.5, inplace=False)\n",
       "  (fc1): Linear(in_features=50880, out_features=925, bias=True)\n",
       "  (fc2): Linear(in_features=925, out_features=919, bias=True)\n",
       ")"
      ]
     },
     "execution_count": 4,
     "metadata": {},
     "output_type": "execute_result"
    }
   ],
   "source": [
    "model=DeepSEA()\n",
    "model.to(device)"
   ]
  },
  {
   "cell_type": "code",
   "execution_count": 5,
   "metadata": {},
   "outputs": [],
   "source": [
    "#optimizer = optim.SGD(model.parameters(), lr=0.01, momentum=0.9,weight_decay=5e-07)\n",
    "optimizer = optim.Adagrad(model.parameters(),weight_decay=5e-07)\n",
    "#scheduler = torch.optim.lr_scheduler.ReduceLROnPlateau(optimizer, patience=5,verbose=1)\n",
    "loss_function = nn.BCEWithLogitsLoss()"
   ]
  },
  {
   "cell_type": "code",
   "execution_count": 6,
   "metadata": {},
   "outputs": [],
   "source": [
    "BATCH_SIZE=100\n",
    "NUM_WORKERS=4\n",
    "\n",
    "dataloader_valid = DataLoader(\n",
    "    dataset=DeepSEA_Dataset('data/valid.mat','validxdata','validdata'), \n",
    "    shuffle=False,\n",
    "    batch_size=BATCH_SIZE,\n",
    "    num_workers=NUM_WORKERS\n",
    ")"
   ]
  },
  {
   "cell_type": "code",
   "execution_count": null,
   "metadata": {},
   "outputs": [
    {
     "name": "stderr",
     "output_type": "stream",
     "text": [
      " 2019-12-30 02:47:25,525 [INFO] (<ipython-input-7-60ec721221d8>:33) > epoch: 0, dataset_split: 0, batch: 99, progress: 0.23% loss: 18.239\n",
      " 2019-12-30 02:47:31,319 [INFO] (<ipython-input-7-60ec721221d8>:33) > epoch: 0, dataset_split: 0, batch: 199, progress: 0.45% loss: 0.593\n",
      " 2019-12-30 02:47:37,173 [INFO] (<ipython-input-7-60ec721221d8>:33) > epoch: 0, dataset_split: 0, batch: 299, progress: 0.68% loss: 0.565\n",
      " 2019-12-30 02:47:43,043 [INFO] (<ipython-input-7-60ec721221d8>:33) > epoch: 0, dataset_split: 0, batch: 399, progress: 0.91% loss: 0.543\n",
      " 2019-12-30 02:47:48,940 [INFO] (<ipython-input-7-60ec721221d8>:33) > epoch: 0, dataset_split: 0, batch: 499, progress: 1.13% loss: 0.525\n",
      " 2019-12-30 02:47:54,851 [INFO] (<ipython-input-7-60ec721221d8>:33) > epoch: 0, dataset_split: 0, batch: 599, progress: 1.36% loss: 0.510\n",
      " 2019-12-30 02:48:00,765 [INFO] (<ipython-input-7-60ec721221d8>:33) > epoch: 0, dataset_split: 0, batch: 699, progress: 1.59% loss: 0.496\n",
      " 2019-12-30 02:48:06,679 [INFO] (<ipython-input-7-60ec721221d8>:33) > epoch: 0, dataset_split: 0, batch: 799, progress: 1.82% loss: 0.484\n",
      " 2019-12-30 02:48:12,589 [INFO] (<ipython-input-7-60ec721221d8>:33) > epoch: 0, dataset_split: 0, batch: 899, progress: 2.04% loss: 0.473\n",
      " 2019-12-30 02:48:18,528 [INFO] (<ipython-input-7-60ec721221d8>:33) > epoch: 0, dataset_split: 0, batch: 999, progress: 2.27% loss: 0.463\n",
      " 2019-12-30 02:48:24,436 [INFO] (<ipython-input-7-60ec721221d8>:33) > epoch: 0, dataset_split: 0, batch: 1099, progress: 2.50% loss: 0.454\n",
      " 2019-12-30 02:48:30,336 [INFO] (<ipython-input-7-60ec721221d8>:33) > epoch: 0, dataset_split: 0, batch: 1199, progress: 2.73% loss: 0.445\n",
      " 2019-12-30 02:48:36,243 [INFO] (<ipython-input-7-60ec721221d8>:33) > epoch: 0, dataset_split: 0, batch: 1299, progress: 2.95% loss: 0.437\n",
      " 2019-12-30 02:48:42,141 [INFO] (<ipython-input-7-60ec721221d8>:33) > epoch: 0, dataset_split: 0, batch: 1399, progress: 3.18% loss: 0.429\n",
      " 2019-12-30 02:48:48,033 [INFO] (<ipython-input-7-60ec721221d8>:33) > epoch: 0, dataset_split: 0, batch: 1499, progress: 3.41% loss: 0.422\n",
      " 2019-12-30 02:48:53,924 [INFO] (<ipython-input-7-60ec721221d8>:33) > epoch: 0, dataset_split: 0, batch: 1599, progress: 3.63% loss: 0.415\n",
      " 2019-12-30 02:48:59,817 [INFO] (<ipython-input-7-60ec721221d8>:33) > epoch: 0, dataset_split: 0, batch: 1699, progress: 3.86% loss: 0.409\n",
      " 2019-12-30 02:49:05,711 [INFO] (<ipython-input-7-60ec721221d8>:33) > epoch: 0, dataset_split: 0, batch: 1799, progress: 4.09% loss: 0.403\n",
      " 2019-12-30 02:49:11,595 [INFO] (<ipython-input-7-60ec721221d8>:33) > epoch: 0, dataset_split: 0, batch: 1899, progress: 4.32% loss: 0.397\n",
      " 2019-12-30 02:49:17,482 [INFO] (<ipython-input-7-60ec721221d8>:33) > epoch: 0, dataset_split: 0, batch: 1999, progress: 4.54% loss: 0.392\n",
      " 2019-12-30 02:49:23,378 [INFO] (<ipython-input-7-60ec721221d8>:33) > epoch: 0, dataset_split: 0, batch: 2099, progress: 4.77% loss: 0.387\n",
      " 2019-12-30 02:49:29,252 [INFO] (<ipython-input-7-60ec721221d8>:33) > epoch: 0, dataset_split: 0, batch: 2199, progress: 5.00% loss: 0.381\n",
      " 2019-12-30 02:49:35,127 [INFO] (<ipython-input-7-60ec721221d8>:33) > epoch: 0, dataset_split: 0, batch: 2299, progress: 5.22% loss: 0.376\n",
      " 2019-12-30 02:49:41,009 [INFO] (<ipython-input-7-60ec721221d8>:33) > epoch: 0, dataset_split: 0, batch: 2399, progress: 5.45% loss: 0.345\n",
      " 2019-12-30 02:49:46,907 [INFO] (<ipython-input-7-60ec721221d8>:33) > epoch: 0, dataset_split: 0, batch: 2499, progress: 5.68% loss: 0.098\n",
      " 2019-12-30 02:49:52,808 [INFO] (<ipython-input-7-60ec721221d8>:33) > epoch: 0, dataset_split: 0, batch: 2599, progress: 5.91% loss: 0.095\n",
      " 2019-12-30 02:49:58,707 [INFO] (<ipython-input-7-60ec721221d8>:33) > epoch: 0, dataset_split: 0, batch: 2699, progress: 6.13% loss: 0.093\n",
      " 2019-12-30 02:50:04,608 [INFO] (<ipython-input-7-60ec721221d8>:33) > epoch: 0, dataset_split: 0, batch: 2799, progress: 6.36% loss: 0.092\n",
      " 2019-12-30 02:50:10,513 [INFO] (<ipython-input-7-60ec721221d8>:33) > epoch: 0, dataset_split: 0, batch: 2899, progress: 6.59% loss: 0.093\n",
      " 2019-12-30 02:50:16,415 [INFO] (<ipython-input-7-60ec721221d8>:33) > epoch: 0, dataset_split: 0, batch: 2999, progress: 6.82% loss: 0.094\n",
      " 2019-12-30 02:50:22,320 [INFO] (<ipython-input-7-60ec721221d8>:33) > epoch: 0, dataset_split: 0, batch: 3099, progress: 7.04% loss: 0.093\n",
      " 2019-12-30 02:50:28,218 [INFO] (<ipython-input-7-60ec721221d8>:33) > epoch: 0, dataset_split: 0, batch: 3199, progress: 7.27% loss: 0.091\n",
      " 2019-12-30 02:50:34,134 [INFO] (<ipython-input-7-60ec721221d8>:33) > epoch: 0, dataset_split: 0, batch: 3299, progress: 7.50% loss: 0.093\n",
      " 2019-12-30 02:50:40,041 [INFO] (<ipython-input-7-60ec721221d8>:33) > epoch: 0, dataset_split: 0, batch: 3399, progress: 7.72% loss: 0.096\n",
      " 2019-12-30 02:50:45,938 [INFO] (<ipython-input-7-60ec721221d8>:33) > epoch: 0, dataset_split: 0, batch: 3499, progress: 7.95% loss: 0.093\n",
      " 2019-12-30 02:50:51,842 [INFO] (<ipython-input-7-60ec721221d8>:33) > epoch: 0, dataset_split: 0, batch: 3599, progress: 8.18% loss: 0.091\n",
      " 2019-12-30 02:50:57,742 [INFO] (<ipython-input-7-60ec721221d8>:33) > epoch: 0, dataset_split: 0, batch: 3699, progress: 8.41% loss: 0.091\n",
      " 2019-12-30 02:51:03,645 [INFO] (<ipython-input-7-60ec721221d8>:33) > epoch: 0, dataset_split: 0, batch: 3799, progress: 8.63% loss: 0.094\n",
      " 2019-12-30 02:51:09,548 [INFO] (<ipython-input-7-60ec721221d8>:33) > epoch: 0, dataset_split: 0, batch: 3899, progress: 8.86% loss: 0.095\n",
      " 2019-12-30 02:51:15,459 [INFO] (<ipython-input-7-60ec721221d8>:33) > epoch: 0, dataset_split: 0, batch: 3999, progress: 9.09% loss: 0.091\n",
      " 2019-12-30 02:51:21,364 [INFO] (<ipython-input-7-60ec721221d8>:33) > epoch: 0, dataset_split: 0, batch: 4099, progress: 9.32% loss: 0.092\n",
      " 2019-12-30 02:51:27,268 [INFO] (<ipython-input-7-60ec721221d8>:33) > epoch: 0, dataset_split: 0, batch: 4199, progress: 9.54% loss: 0.092\n",
      " 2019-12-30 02:51:33,171 [INFO] (<ipython-input-7-60ec721221d8>:33) > epoch: 0, dataset_split: 0, batch: 4299, progress: 9.77% loss: 0.093\n",
      " 2019-12-30 02:51:39,097 [INFO] (<ipython-input-7-60ec721221d8>:33) > epoch: 0, dataset_split: 0, batch: 4399, progress: 10.00% loss: 0.090\n",
      " 2019-12-30 02:51:40,822 [INFO] (<ipython-input-7-60ec721221d8>:48) > epoch: 0, dataset_split: 0, valid loss: 0.082\n"
     ]
    },
    {
     "name": "stdout",
     "output_type": "stream",
     "text": [
      "None\n"
     ]
    },
    {
     "name": "stderr",
     "output_type": "stream",
     "text": [
      " 2019-12-30 02:51:49,600 [INFO] (<ipython-input-7-60ec721221d8>:33) > epoch: 0, dataset_split: 1, batch: 99, progress: 10.22% loss: 0.085\n",
      " 2019-12-30 02:51:55,491 [INFO] (<ipython-input-7-60ec721221d8>:33) > epoch: 0, dataset_split: 1, batch: 199, progress: 10.45% loss: 0.087\n",
      " 2019-12-30 02:52:01,390 [INFO] (<ipython-input-7-60ec721221d8>:33) > epoch: 0, dataset_split: 1, batch: 299, progress: 10.68% loss: 0.088\n",
      " 2019-12-30 02:52:07,299 [INFO] (<ipython-input-7-60ec721221d8>:33) > epoch: 0, dataset_split: 1, batch: 399, progress: 10.91% loss: 0.088\n",
      " 2019-12-30 02:52:13,211 [INFO] (<ipython-input-7-60ec721221d8>:33) > epoch: 0, dataset_split: 1, batch: 499, progress: 11.13% loss: 0.088\n",
      " 2019-12-30 02:52:19,117 [INFO] (<ipython-input-7-60ec721221d8>:33) > epoch: 0, dataset_split: 1, batch: 599, progress: 11.36% loss: 0.089\n",
      " 2019-12-30 02:52:25,028 [INFO] (<ipython-input-7-60ec721221d8>:33) > epoch: 0, dataset_split: 1, batch: 699, progress: 11.59% loss: 0.085\n",
      " 2019-12-30 02:52:30,933 [INFO] (<ipython-input-7-60ec721221d8>:33) > epoch: 0, dataset_split: 1, batch: 799, progress: 11.82% loss: 0.084\n",
      " 2019-12-30 02:52:36,841 [INFO] (<ipython-input-7-60ec721221d8>:33) > epoch: 0, dataset_split: 1, batch: 899, progress: 12.04% loss: 0.087\n",
      " 2019-12-30 02:52:42,742 [INFO] (<ipython-input-7-60ec721221d8>:33) > epoch: 0, dataset_split: 1, batch: 999, progress: 12.27% loss: 0.087\n",
      " 2019-12-30 02:52:48,642 [INFO] (<ipython-input-7-60ec721221d8>:33) > epoch: 0, dataset_split: 1, batch: 1099, progress: 12.50% loss: 0.085\n",
      " 2019-12-30 02:52:54,550 [INFO] (<ipython-input-7-60ec721221d8>:33) > epoch: 0, dataset_split: 1, batch: 1199, progress: 12.72% loss: 0.087\n",
      " 2019-12-30 02:53:00,462 [INFO] (<ipython-input-7-60ec721221d8>:33) > epoch: 0, dataset_split: 1, batch: 1299, progress: 12.95% loss: 0.087\n",
      " 2019-12-30 02:53:06,367 [INFO] (<ipython-input-7-60ec721221d8>:33) > epoch: 0, dataset_split: 1, batch: 1399, progress: 13.18% loss: 0.085\n",
      " 2019-12-30 02:53:12,279 [INFO] (<ipython-input-7-60ec721221d8>:33) > epoch: 0, dataset_split: 1, batch: 1499, progress: 13.41% loss: 0.089\n",
      " 2019-12-30 02:53:18,198 [INFO] (<ipython-input-7-60ec721221d8>:33) > epoch: 0, dataset_split: 1, batch: 1599, progress: 13.63% loss: 0.085\n",
      " 2019-12-30 02:53:24,130 [INFO] (<ipython-input-7-60ec721221d8>:33) > epoch: 0, dataset_split: 1, batch: 1699, progress: 13.86% loss: 0.089\n",
      " 2019-12-30 02:53:30,069 [INFO] (<ipython-input-7-60ec721221d8>:33) > epoch: 0, dataset_split: 1, batch: 1799, progress: 14.09% loss: 0.086\n",
      " 2019-12-30 02:53:36,012 [INFO] (<ipython-input-7-60ec721221d8>:33) > epoch: 0, dataset_split: 1, batch: 1899, progress: 14.32% loss: 0.086\n"
     ]
    }
   ],
   "source": [
    "TOTAL_EPOCH=10\n",
    "\n",
    "for epoch in range(TOTAL_EPOCH):\n",
    "    train_loss_list=[]\n",
    "    valid_loss_list=[]\n",
    "    for i in range(10):\n",
    "        # train data load\n",
    "        try:\n",
    "            del dataloader_train,dataset_train\n",
    "        except:\n",
    "            pass\n",
    "        dataset_train=DeepSEA_Dataset('data/train_{}.pt'.format(i),'trainxdata','traindata')\n",
    "        dataloader_train=DataLoader(dataset=dataset_train,shuffle=True,batch_size=BATCH_SIZE,num_workers=NUM_WORKERS)\n",
    "\n",
    "        for batch_idx,(batch_X,batch_Y) in enumerate(dataloader_train):\n",
    "            if model.batch_first==False:\n",
    "                batch_X=batch_X.transpose(1,2).transpose(0,1)\n",
    "            batch_X=batch_X.to(device) \n",
    "            batch_Y=batch_Y.to(device)\n",
    "\n",
    "            # zero the parameter gradients\n",
    "            optimizer.zero_grad()\n",
    "            \n",
    "            # forward + backward + optimize\n",
    "            output=model(batch_X)\n",
    "            loss = loss_function(output, batch_Y)\n",
    "            loss.backward()\n",
    "            optimizer.step()  \n",
    "            \n",
    "            train_loss_list.append(loss.item())\n",
    "            \n",
    "            if batch_idx%100==99:\n",
    "                log.info('epoch: {:d}, dataset_split: {:d}, batch: {:d}, progress: {:.2f}% loss: {:.3f}'.format(epoch,i,batch_idx,100*(i*len(dataloader_train)+batch_idx)/(10*len(dataloader_train)),np.mean(train_loss_list)))\n",
    "                train_loss_list.clear()\n",
    "        \n",
    "        with torch.no_grad():\n",
    "            for batch_idx, (batch_X, batch_Y) in enumerate(dataloader_valid):\n",
    "                if model.batch_first==False:\n",
    "                    batch_X = batch_X.transpose(1,2).transpose(0,1).to(device)\n",
    "                else:\n",
    "                    batch_X = batch_X.to(device)\n",
    "                batch_Y = batch_Y.to(device)\n",
    "\n",
    "                output = model(batch_X)\n",
    "                loss = loss_function(output, batch_Y)\n",
    "                valid_loss_list.append(loss.item())\n",
    "                \n",
    "            print(log.info('epoch: {:d}, dataset_split: {:d}, valid loss: {:.3f}'.format(epoch,i,np.mean(valid_loss_list))))\n",
    "            valid_loss_list.clear()"
   ]
  },
  {
   "cell_type": "code",
   "execution_count": null,
   "metadata": {},
   "outputs": [],
   "source": []
  }
 ],
 "metadata": {
  "kernelspec": {
   "display_name": "Python [conda env:pytorch] *",
   "language": "python",
   "name": "conda-env-pytorch-py"
  },
  "language_info": {
   "codemirror_mode": {
    "name": "ipython",
    "version": 3
   },
   "file_extension": ".py",
   "mimetype": "text/x-python",
   "name": "python",
   "nbconvert_exporter": "python",
   "pygments_lexer": "ipython3",
   "version": "3.6.9"
  }
 },
 "nbformat": 4,
 "nbformat_minor": 4
}
