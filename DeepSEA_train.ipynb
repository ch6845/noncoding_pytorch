{
 "cells": [
  {
   "cell_type": "code",
   "execution_count": null,
   "metadata": {},
   "outputs": [],
   "source": []
  },
  {
   "cell_type": "code",
   "execution_count": 1,
   "metadata": {},
   "outputs": [],
   "source": [
    "import torch\n",
    "import torch.nn as nn\n",
    "import torch.nn.functional as F\n",
    "import torch.optim as optim\n",
    "from torch.utils.data import Dataset,DataLoader,TensorDataset\n",
    "\n",
    "import numpy as np\n",
    "import os\n",
    "import time\n",
    "import datetime\n",
    "\n",
    "torch.manual_seed(1)\n",
    "np.random.seed(1)\n",
    "torch.cuda.manual_seed(1)\n",
    "torch.backends.cudnn.benchmark=True"
   ]
  },
  {
   "cell_type": "code",
   "execution_count": 2,
   "metadata": {},
   "outputs": [],
   "source": []
  },
  {
   "cell_type": "markdown",
   "metadata": {},
   "source": [
    "# Hyperparameters"
   ]
  },
  {
   "cell_type": "code",
   "execution_count": 3,
   "metadata": {},
   "outputs": [],
   "source": [
    "TOTAL_EPOCH = 100\n",
    "BATCH_SIZE = 100\n",
    "LEARNING_RATE = \n",
    "NUM_WORKERS=0\n",
    "\n",
    "session_name = '20191228'"
   ]
  },
  {
   "cell_type": "markdown",
   "metadata": {},
   "source": [
    "# Check CUDA device environmnet"
   ]
  },
  {
   "cell_type": "code",
   "execution_count": 4,
   "metadata": {},
   "outputs": [],
   "source": [
    "device = torch.device(\"cuda:0\" if torch.cuda.is_available() else \"cpu\")"
   ]
  },
  {
   "cell_type": "code",
   "execution_count": 5,
   "metadata": {},
   "outputs": [
    {
     "name": "stdout",
     "output_type": "stream",
     "text": [
      "cuda:0 6\n"
     ]
    }
   ],
   "source": [
    "print(device,torch.cuda.device_count())"
   ]
  },
  {
   "cell_type": "markdown",
   "metadata": {},
   "source": [
    "# Useful functions and classes"
   ]
  },
  {
   "cell_type": "markdown",
   "metadata": {},
   "source": [
    "## mkdir function "
   ]
  },
  {
   "cell_type": "code",
   "execution_count": 7,
   "metadata": {},
   "outputs": [],
   "source": [
    "def mkdir(path):\n",
    "    if not os.path.exists(path):\n",
    "        os.makedirs(path)"
   ]
  },
  {
   "cell_type": "code",
   "execution_count": 8,
   "metadata": {},
   "outputs": [],
   "source": [
    "def print_time(trainstart_time):\n",
    "    log.info(msg=(\"{:s} | {:.2f}sec elapsed from checkpoint\".format(datetime.datetime.now().strftime('%Y-%m-%d %H:%M:%S'),time.time()-trainstart_time)))"
   ]
  },
  {
   "cell_type": "markdown",
   "metadata": {},
   "source": [
    "## Save model"
   ]
  },
  {
   "cell_type": "code",
   "execution_count": 9,
   "metadata": {},
   "outputs": [
    {
     "data": {
      "text/plain": [
       "\"\\ntorch.save({\\n            'epoch': epoch,\\n            'model_state_dict': model.state_dict(),\\n            'optimizer_state_dict': optimizer.state_dict(),\\n            'loss': loss,\\n            ...\\n            }, PATH)\\n    \\ntorch.save(model_instance, 'model/model{session_name}/deepsea_net_final.pkl'.format(session_name=session_name))  # save entire net\\ntorch.save(model_instance.state_dict(), 'model/model{session_name}/deepsea_net_params_final.pkl'.format(session_name=session_name))\\n\""
      ]
     },
     "execution_count": 9,
     "metadata": {},
     "output_type": "execute_result"
    }
   ],
   "source": [
    "# build model file\n",
    "model_path = 'model/model%s/'% session_name\n",
    "mkdir(model_path)\n",
    "\n",
    "def save_model(path,model,optimizer):\n",
    "    torch.save({\n",
    "            'epoch': epoch,\n",
    "            'model_state_dict': model.state_dict(),\n",
    "            'optimizer_state_dict': optimizer.state_dict(),\n",
    "            }, path)"
   ]
  },
  {
   "cell_type": "markdown",
   "metadata": {},
   "source": [
    "# Training"
   ]
  },
  {
   "cell_type": "markdown",
   "metadata": {},
   "source": [
    "## Initialize Dataset Loader"
   ]
  },
  {
   "cell_type": "code",
   "execution_count": 13,
   "metadata": {},
   "outputs": [],
   "source": [
    "train_dataset_list=[DeepSEA_Dataset('data/train_{}.pt'.format(i),'trainxdata','traindata') for i in range(10)]"
   ]
  },
  {
   "cell_type": "code",
   "execution_count": 14,
   "metadata": {},
   "outputs": [],
   "source": [
    "BATCH_SIZE=2000\n",
    "NUM_WORKERS=4"
   ]
  },
  {
   "cell_type": "code",
   "execution_count": 15,
   "metadata": {},
   "outputs": [],
   "source": [
    "train_loader_list=[DataLoader(dataset=train_dataset_list[i],shuffle=True,batch_size=BATCH_SIZE,num_workers=NUM_WORKERS) for i in range(10)]"
   ]
  },
  {
   "cell_type": "code",
   "execution_count": 16,
   "metadata": {},
   "outputs": [],
   "source": [
    "valid_loader = DataLoader(\n",
    "    dataset=DeepSEA_Dataset('data/valid.mat','validxdata','validdata'), \n",
    "    shuffle=False,\n",
    "    batch_size=BATCH_SIZE,\n",
    "    num_workers=NUM_WORKERS\n",
    ")"
   ]
  },
  {
   "cell_type": "markdown",
   "metadata": {},
   "source": [
    "## Initialize Model"
   ]
  },
  {
   "cell_type": "code",
   "execution_count": 18,
   "metadata": {},
   "outputs": [
    {
     "name": "stderr",
     "output_type": "stream",
     "text": [
      " 2019-12-28 21:40:41,935 [INFO] (<ipython-input-18-d188840bd447>:3) > (\"Let's use\", 6, 'GPUs!')\n"
     ]
    },
    {
     "data": {
      "text/plain": [
       "DataParallel(\n",
       "  (module): DeepSEA(\n",
       "    (Conv1): Conv1d(4, 320, kernel_size=(8,), stride=(1,))\n",
       "    (Conv2): Conv1d(320, 480, kernel_size=(8,), stride=(1,))\n",
       "    (Conv3): Conv1d(480, 960, kernel_size=(8,), stride=(1,))\n",
       "    (Maxpool): MaxPool1d(kernel_size=4, stride=4, padding=0, dilation=1, ceil_mode=False)\n",
       "    (Drop1): Dropout(p=0.2, inplace=False)\n",
       "    (Drop2): Dropout(p=0.5, inplace=False)\n",
       "    (Linear1): Linear(in_features=50880, out_features=925, bias=True)\n",
       "    (Linear2): Linear(in_features=925, out_features=919, bias=True)\n",
       "  )\n",
       ")"
      ]
     },
     "execution_count": 18,
     "metadata": {},
     "output_type": "execute_result"
    }
   ],
   "source": [
    "deepsea = DeepSEA()\n",
    "if torch.cuda.device_count() > 1:\n",
    "    log.info(msg=(\"Let's use\", torch.cuda.device_count(), \"GPUs!\"))\n",
    "    # dim = 0 [30, xxx] -> [10, ...], [10, ...], [10, ...] on 3 GPUs\n",
    "    deepsea = nn.DataParallel(deepsea)\n",
    "deepsea.to(device)"
   ]
  },
  {
   "cell_type": "code",
   "execution_count": 23,
   "metadata": {},
   "outputs": [],
   "source": [
    "\"\"\"\n",
    "checkpoint=torch.load('model/model20191228/deepsea_net_params_epoch0.pt')\n",
    "deepsea.load_state_dict(checkpoint['model_state_dict'])\n",
    "optimizer.load_state_dict(checkpoint['optimizer_state_dict'])\n",
    "\"\"\""
   ]
  },
  {
   "cell_type": "code",
   "execution_count": 29,
   "metadata": {},
   "outputs": [],
   "source": []
  },
  {
   "cell_type": "markdown",
   "metadata": {},
   "source": [
    "## Define optimizer, scheduler, loss_function, etc."
   ]
  },
  {
   "cell_type": "code",
   "execution_count": 56,
   "metadata": {},
   "outputs": [],
   "source": [
    "optimizer = optim.SGD(deepsea.parameters(), lr=LEARNING_RATE,momentum=0.9,weight_decay=5e-07)\n",
    "scheduler = torch.optim.lr_scheduler.ReduceLROnPlateau(optimizer, patience=5,verbose=1)\n",
    "loss_function = nn.BCEWithLogitsLoss()"
   ]
  },
  {
   "cell_type": "markdown",
   "metadata": {},
   "source": [
    "## Train the Model"
   ]
  },
  {
   "cell_type": "code",
   "execution_count": null,
   "metadata": {},
   "outputs": [],
   "source": [
    "trainstart_time = time.time()\n",
    "check_time=time.time()\n",
    "for epoch in range(3,TOTAL_EPOCH):\n",
    "    train_losses = []\n",
    "    valid_losses = []\n",
    "    log.info(msg=(\"Epoch {:d} started\".format(epoch)))\n",
    "    \n",
    "    \"\"\"\n",
    "    Data Training\n",
    "    \"\"\"\n",
    "    deepsea.train()\n",
    "    train_loss = 0\n",
    "    for i in range(10):\n",
    "        log.info(msg=(\"{:d}th traindata set\".format(i)))\n",
    "        for batch_i,(train_batch_X,train_batch_Y) in enumerate(train_loader_list[i]):\n",
    "            #log.info(msg=(\"loading\",time.time()-a)\n",
    "            train_batch_X=train_batch_X.to(device)\n",
    "            train_batch_Y=train_batch_Y.to(device)\n",
    "\n",
    "            out=deepsea(train_batch_X)\n",
    "\n",
    "            \"\"\"\n",
    "            L2_reg=0\n",
    "            for name, param in deepsea.named_parameters():\n",
    "                if 'weight' in name:\n",
    "                L2_reg = L2_reg + torch.norm(param, 2)**2\n",
    "            \"\"\"\n",
    "            loss = loss_function(out, train_batch_Y)#+*L2_reg+1e-08\n",
    "            \n",
    "            train_losses.append(loss.item())\n",
    "\n",
    "            optimizer.zero_grad()\n",
    "            loss.backward()\n",
    "            optimizer.step()\n",
    "\n",
    "            #if step%int(len(train_loader.dataset)/BATCH_SIZE/100)==0:\n",
    "            batch_interval=30\n",
    "            if batch_i%batch_interval==0:\n",
    "                print_time(trainstart_time)\n",
    "                log.info(msg=(\"sec per data\",(time.time()-check_time)/(BATCH_SIZE*batch_interval))); check_time=time.time()\n",
    "                log.info(msg=(\"{:d}th batch / {:.2f}% of one epoch\".format(batch_i,\n",
    "                                                                   (i*len(train_loader_list[i].dataset)+BATCH_SIZE*batch_i)/\n",
    "                                                                   (10*len(train_loader_list[i].dataset)) *100)))\n",
    "                log.info(msg=(\"--------------------------\"))\n",
    "            #log.info(msg=(\"compute\",time.time()-a)\n",
    "            a=time.time()\n",
    "\n",
    "    \"\"\"\n",
    "    Evaluate\n",
    "    \"\"\"\n",
    "        \n",
    "    deepsea.eval()\n",
    "    \n",
    "    for valid_step, (valid_batch_X, valid_batch_Y) in enumerate(valid_loader):\n",
    "        valid_batch_X = valid_batch_X.to(device)\n",
    "        valid_batch_Y = valid_batch_Y.to(device)\n",
    "\n",
    "        val_out = deepsea(valid_batch_X)\n",
    "        val_loss = loss_function(val_out, valid_batch_Y)\n",
    "        valid_losses.append(val_loss.item())\n",
    "        \n",
    "    train_loss = np.average(train_losses)\n",
    "    valid_loss = np.average(valid_losses)\n",
    "    \n",
    "    scheduler.step(valid_loss)\n",
    "\n",
    "    print_time(trainstart_time)\n",
    "    log.info(msg=(\"epoch:{:d}, train_loss:{:f}, valid_loss:{:f}\".format(epoch,train_loss,valid_loss)))\n",
    "    if epoch % 5 == 0:\n",
    "        save_model(model_path+'deepsea_net_params_epoch{}.pt'.format(epoch),deepsea,optimizer)\n",
    "    log.info(msg=(\"--------------------------\"))\n",
    "    \"\"\"\n",
    "    Visdom Data Plotting\n",
    "    \"\"\"    \n",
    "    vis.line(\n",
    "        X=np.array([epoch]),\n",
    "        Y=np.array([train_loss]),\n",
    "        win=win,\n",
    "        update=\"append\",\n",
    "        name=\"train\"\n",
    "    )\n",
    "    vis.line(\n",
    "        X=np.array([epoch]),\n",
    "        Y=np.array([valid_loss]),\n",
    "        win=win,\n",
    "        update=\"append\",\n",
    "        name=\"val\"\n",
    "    )"
   ]
  },
  {
   "cell_type": "code",
   "execution_count": 49,
   "metadata": {},
   "outputs": [
    {
     "data": {
      "text/plain": [
       "tensor(14.0000)"
      ]
     },
     "execution_count": 49,
     "metadata": {},
     "output_type": "execute_result"
    }
   ],
   "source": [
    "torch.norm(torch.Tensor(np.array([1,2,3])),2)**2"
   ]
  },
  {
   "cell_type": "code",
   "execution_count": 36,
   "metadata": {},
   "outputs": [
    {
     "name": "stdout",
     "output_type": "stream",
     "text": [
      "module.Conv1.weight\n",
      "module.Conv1.bias\n",
      "module.Conv2.weight\n",
      "module.Conv2.bias\n",
      "module.Conv3.weight\n",
      "module.Conv3.bias\n",
      "module.Linear1.weight\n",
      "module.Linear1.bias\n",
      "module.Linear2.weight\n",
      "module.Linear2.bias\n"
     ]
    }
   ],
   "source": [
    "L1_sparse=0\n",
    "for wefor name, param in deepsea.named_parameters()\n",
    "    print(name)\n",
    "    #if 'weight' in name:\n",
    "    #    L1_reg = L1_reg + torch.norm(param, 1)"
   ]
  },
  {
   "cell_type": "code",
   "execution_count": 32,
   "metadata": {},
   "outputs": [],
   "source": [
    "save_model(model_path+'deepsea_net_params_epoch{}.pt'.format(epoch),deepsea,optimizer)"
   ]
  }
 ],
 "metadata": {
  "kernelspec": {
   "display_name": "Python [conda env:pytorch] *",
   "language": "python",
   "name": "conda-env-pytorch-py"
  },
  "language_info": {
   "codemirror_mode": {
    "name": "ipython",
    "version": 3
   },
   "file_extension": ".py",
   "mimetype": "text/x-python",
   "name": "python",
   "nbconvert_exporter": "python",
   "pygments_lexer": "ipython3",
   "version": "3.6.9"
  }
 },
 "nbformat": 4,
 "nbformat_minor": 4
}
