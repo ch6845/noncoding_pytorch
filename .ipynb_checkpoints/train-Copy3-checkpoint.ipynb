{
 "cells": [
  {
   "cell_type": "code",
   "execution_count": 1,
   "metadata": {},
   "outputs": [],
   "source": [
    "import numpy as np\n",
    "import torch\n",
    "import torch.optim as optim\n",
    "from torch.utils.data import DataLoader\n",
    "\n",
    "from dna_data import DeepSEA_Dataset\n",
    "from model import *"
   ]
  },
  {
   "cell_type": "code",
   "execution_count": 2,
   "metadata": {},
   "outputs": [],
   "source": [
    "import sys\n",
    "import logging\n",
    "import datetime\n",
    "\n",
    "log = logging.getLogger('snowdeer_log')\n",
    "log.setLevel(logging.DEBUG)\n",
    "\n",
    "log_file_name=sys.argv[-1].split('/')[-1].split('.')[-2].split('-')[-1]+'_'+datetime.datetime.now().strftime('%Y%m%d_%H%M%S')+'.log'\n",
    "fileHandler = logging.FileHandler(log_file_name)\n",
    "streamHandler = logging.StreamHandler()\n",
    "\n",
    "formatter = logging.Formatter(' %(asctime)s [%(levelname)s] (%(filename)s:%(lineno)d) > %(message)s')\n",
    "fileHandler.setFormatter(formatter)\n",
    "streamHandler.setFormatter(formatter)\n",
    "\n",
    "log.addHandler(fileHandler)\n",
    "log.addHandler(streamHandler)\n",
    "\n",
    "#log.debug('debug')"
   ]
  },
  {
   "cell_type": "code",
   "execution_count": 3,
   "metadata": {},
   "outputs": [
    {
     "name": "stdout",
     "output_type": "stream",
     "text": [
      "cuda:0\n"
     ]
    }
   ],
   "source": [
    "device = torch.device(\"cuda:0\" if torch.cuda.is_available() else \"cpu\")\n",
    "print(device)"
   ]
  },
  {
   "cell_type": "code",
   "execution_count": 4,
   "metadata": {},
   "outputs": [
    {
     "data": {
      "text/plain": [
       "RNN(\n",
       "  (lstm): LSTM(4, 32, num_layers=2, dropout=0.8, bidirectional=True)\n",
       "  (dropout): Dropout(p=0.8, inplace=False)\n",
       "  (fc): Linear(in_features=128, out_features=919, bias=True)\n",
       ")"
      ]
     },
     "execution_count": 4,
     "metadata": {},
     "output_type": "execute_result"
    }
   ],
   "source": [
    "model=RNN()\n",
    "model.to(device)"
   ]
  },
  {
   "cell_type": "code",
   "execution_count": 5,
   "metadata": {},
   "outputs": [],
   "source": [
    "#optimizer = optim.SGD(model.parameters(), lr=0.01, momentum=0.9,weight_decay=5e-07)\n",
    "optimizer = optim.Adagrad(model.parameters(),weight_decay=5e-07)\n",
    "#scheduler = torch.optim.lr_scheduler.ReduceLROnPlateau(optimizer, patience=5,verbose=1)\n",
    "loss_function = nn.BCEWithLogitsLoss()"
   ]
  },
  {
   "cell_type": "code",
   "execution_count": 6,
   "metadata": {},
   "outputs": [],
   "source": [
    "BATCH_SIZE=100\n",
    "NUM_WORKERS=4\n",
    "\n",
    "dataloader_valid = DataLoader(\n",
    "    dataset=DeepSEA_Dataset('data/valid.mat','validxdata','validdata'), \n",
    "    shuffle=False,\n",
    "    batch_size=BATCH_SIZE,\n",
    "    num_workers=NUM_WORKERS\n",
    ")"
   ]
  },
  {
   "cell_type": "code",
   "execution_count": 7,
   "metadata": {},
   "outputs": [
    {
     "name": "stderr",
     "output_type": "stream",
     "text": [
      " 2019-12-30 02:21:45,891 [INFO] (<ipython-input-7-6b85ee862bdb>:33) > epoch: 0, dataset_split: 0, batch: 99, progress: 0.23% loss: 0.130\n",
      " 2019-12-30 02:22:00,334 [INFO] (<ipython-input-7-6b85ee862bdb>:33) > epoch: 0, dataset_split: 0, batch: 199, progress: 0.45% loss: 0.105\n",
      " 2019-12-30 02:22:14,619 [INFO] (<ipython-input-7-6b85ee862bdb>:33) > epoch: 0, dataset_split: 0, batch: 299, progress: 0.68% loss: 0.106\n",
      " 2019-12-30 02:22:29,001 [INFO] (<ipython-input-7-6b85ee862bdb>:33) > epoch: 0, dataset_split: 0, batch: 399, progress: 0.91% loss: 0.102\n",
      " 2019-12-30 02:22:43,433 [INFO] (<ipython-input-7-6b85ee862bdb>:33) > epoch: 0, dataset_split: 0, batch: 499, progress: 1.13% loss: 0.097\n",
      " 2019-12-30 02:22:57,612 [INFO] (<ipython-input-7-6b85ee862bdb>:33) > epoch: 0, dataset_split: 0, batch: 599, progress: 1.36% loss: 0.102\n",
      " 2019-12-30 02:23:11,676 [INFO] (<ipython-input-7-6b85ee862bdb>:33) > epoch: 0, dataset_split: 0, batch: 699, progress: 1.59% loss: 0.101\n",
      " 2019-12-30 02:23:26,018 [INFO] (<ipython-input-7-6b85ee862bdb>:33) > epoch: 0, dataset_split: 0, batch: 799, progress: 1.82% loss: 0.100\n",
      " 2019-12-30 02:23:40,635 [INFO] (<ipython-input-7-6b85ee862bdb>:33) > epoch: 0, dataset_split: 0, batch: 899, progress: 2.04% loss: 0.099\n",
      " 2019-12-30 02:23:55,550 [INFO] (<ipython-input-7-6b85ee862bdb>:33) > epoch: 0, dataset_split: 0, batch: 999, progress: 2.27% loss: 0.099\n",
      " 2019-12-30 02:24:09,928 [INFO] (<ipython-input-7-6b85ee862bdb>:33) > epoch: 0, dataset_split: 0, batch: 1099, progress: 2.50% loss: 0.096\n",
      " 2019-12-30 02:24:24,235 [INFO] (<ipython-input-7-6b85ee862bdb>:33) > epoch: 0, dataset_split: 0, batch: 1199, progress: 2.73% loss: 0.099\n",
      " 2019-12-30 02:24:37,935 [INFO] (<ipython-input-7-6b85ee862bdb>:33) > epoch: 0, dataset_split: 0, batch: 1299, progress: 2.95% loss: 0.098\n",
      " 2019-12-30 02:24:52,782 [INFO] (<ipython-input-7-6b85ee862bdb>:33) > epoch: 0, dataset_split: 0, batch: 1399, progress: 3.18% loss: 0.102\n",
      " 2019-12-30 02:25:08,995 [INFO] (<ipython-input-7-6b85ee862bdb>:33) > epoch: 0, dataset_split: 0, batch: 1499, progress: 3.41% loss: 0.101\n",
      " 2019-12-30 02:25:25,522 [INFO] (<ipython-input-7-6b85ee862bdb>:33) > epoch: 0, dataset_split: 0, batch: 1599, progress: 3.63% loss: 0.099\n",
      " 2019-12-30 02:25:42,237 [INFO] (<ipython-input-7-6b85ee862bdb>:33) > epoch: 0, dataset_split: 0, batch: 1699, progress: 3.86% loss: 0.098\n",
      " 2019-12-30 02:25:59,329 [INFO] (<ipython-input-7-6b85ee862bdb>:33) > epoch: 0, dataset_split: 0, batch: 1799, progress: 4.09% loss: 0.097\n",
      " 2019-12-30 02:26:15,939 [INFO] (<ipython-input-7-6b85ee862bdb>:33) > epoch: 0, dataset_split: 0, batch: 1899, progress: 4.32% loss: 0.102\n",
      " 2019-12-30 02:26:32,454 [INFO] (<ipython-input-7-6b85ee862bdb>:33) > epoch: 0, dataset_split: 0, batch: 1999, progress: 4.54% loss: 0.100\n",
      " 2019-12-30 02:26:49,093 [INFO] (<ipython-input-7-6b85ee862bdb>:33) > epoch: 0, dataset_split: 0, batch: 2099, progress: 4.77% loss: 0.100\n",
      " 2019-12-30 02:27:05,853 [INFO] (<ipython-input-7-6b85ee862bdb>:33) > epoch: 0, dataset_split: 0, batch: 2199, progress: 5.00% loss: 0.098\n",
      " 2019-12-30 02:27:22,395 [INFO] (<ipython-input-7-6b85ee862bdb>:33) > epoch: 0, dataset_split: 0, batch: 2299, progress: 5.22% loss: 0.098\n",
      " 2019-12-30 02:27:38,779 [INFO] (<ipython-input-7-6b85ee862bdb>:33) > epoch: 0, dataset_split: 0, batch: 2399, progress: 5.45% loss: 0.100\n",
      " 2019-12-30 02:27:55,346 [INFO] (<ipython-input-7-6b85ee862bdb>:33) > epoch: 0, dataset_split: 0, batch: 2499, progress: 5.68% loss: 0.098\n",
      " 2019-12-30 02:28:11,853 [INFO] (<ipython-input-7-6b85ee862bdb>:33) > epoch: 0, dataset_split: 0, batch: 2599, progress: 5.91% loss: 0.099\n",
      " 2019-12-30 02:28:28,505 [INFO] (<ipython-input-7-6b85ee862bdb>:33) > epoch: 0, dataset_split: 0, batch: 2699, progress: 6.13% loss: 0.099\n",
      " 2019-12-30 02:28:45,091 [INFO] (<ipython-input-7-6b85ee862bdb>:33) > epoch: 0, dataset_split: 0, batch: 2799, progress: 6.36% loss: 0.099\n",
      " 2019-12-30 02:29:01,592 [INFO] (<ipython-input-7-6b85ee862bdb>:33) > epoch: 0, dataset_split: 0, batch: 2899, progress: 6.59% loss: 0.099\n",
      " 2019-12-30 02:29:17,030 [INFO] (<ipython-input-7-6b85ee862bdb>:33) > epoch: 0, dataset_split: 0, batch: 2999, progress: 6.82% loss: 0.100\n",
      " 2019-12-30 02:29:31,407 [INFO] (<ipython-input-7-6b85ee862bdb>:33) > epoch: 0, dataset_split: 0, batch: 3099, progress: 7.04% loss: 0.099\n",
      " 2019-12-30 02:29:45,546 [INFO] (<ipython-input-7-6b85ee862bdb>:33) > epoch: 0, dataset_split: 0, batch: 3199, progress: 7.27% loss: 0.100\n",
      " 2019-12-30 02:29:59,830 [INFO] (<ipython-input-7-6b85ee862bdb>:33) > epoch: 0, dataset_split: 0, batch: 3299, progress: 7.50% loss: 0.095\n",
      " 2019-12-30 02:30:13,892 [INFO] (<ipython-input-7-6b85ee862bdb>:33) > epoch: 0, dataset_split: 0, batch: 3399, progress: 7.72% loss: 0.100\n",
      " 2019-12-30 02:30:28,812 [INFO] (<ipython-input-7-6b85ee862bdb>:33) > epoch: 0, dataset_split: 0, batch: 3499, progress: 7.95% loss: 0.096\n",
      " 2019-12-30 02:30:43,028 [INFO] (<ipython-input-7-6b85ee862bdb>:33) > epoch: 0, dataset_split: 0, batch: 3599, progress: 8.18% loss: 0.100\n",
      " 2019-12-30 02:30:57,153 [INFO] (<ipython-input-7-6b85ee862bdb>:33) > epoch: 0, dataset_split: 0, batch: 3699, progress: 8.41% loss: 0.096\n",
      " 2019-12-30 02:31:11,444 [INFO] (<ipython-input-7-6b85ee862bdb>:33) > epoch: 0, dataset_split: 0, batch: 3799, progress: 8.63% loss: 0.100\n",
      " 2019-12-30 02:31:25,891 [INFO] (<ipython-input-7-6b85ee862bdb>:33) > epoch: 0, dataset_split: 0, batch: 3899, progress: 8.86% loss: 0.097\n",
      " 2019-12-30 02:31:40,161 [INFO] (<ipython-input-7-6b85ee862bdb>:33) > epoch: 0, dataset_split: 0, batch: 3999, progress: 9.09% loss: 0.099\n",
      " 2019-12-30 02:31:54,455 [INFO] (<ipython-input-7-6b85ee862bdb>:33) > epoch: 0, dataset_split: 0, batch: 4099, progress: 9.32% loss: 0.097\n",
      " 2019-12-30 02:32:08,759 [INFO] (<ipython-input-7-6b85ee862bdb>:33) > epoch: 0, dataset_split: 0, batch: 4199, progress: 9.54% loss: 0.098\n",
      " 2019-12-30 02:32:22,929 [INFO] (<ipython-input-7-6b85ee862bdb>:33) > epoch: 0, dataset_split: 0, batch: 4299, progress: 9.77% loss: 0.101\n",
      " 2019-12-30 02:32:37,142 [INFO] (<ipython-input-7-6b85ee862bdb>:33) > epoch: 0, dataset_split: 0, batch: 4399, progress: 10.00% loss: 0.099\n"
     ]
    },
    {
     "ename": "NameError",
     "evalue": "name 'input_transpose' is not defined",
     "output_type": "error",
     "traceback": [
      "\u001b[0;31m---------------------------------------------------------------------------\u001b[0m",
      "\u001b[0;31mNameError\u001b[0m                                 Traceback (most recent call last)",
      "\u001b[0;32m<ipython-input-7-6b85ee862bdb>\u001b[0m in \u001b[0;36m<module>\u001b[0;34m\u001b[0m\n\u001b[1;32m     36\u001b[0m         \u001b[0;32mwith\u001b[0m \u001b[0mtorch\u001b[0m\u001b[0;34m.\u001b[0m\u001b[0mno_grad\u001b[0m\u001b[0;34m(\u001b[0m\u001b[0;34m)\u001b[0m\u001b[0;34m:\u001b[0m\u001b[0;34m\u001b[0m\u001b[0;34m\u001b[0m\u001b[0m\n\u001b[1;32m     37\u001b[0m             \u001b[0;32mfor\u001b[0m \u001b[0mbatch_idx\u001b[0m\u001b[0;34m,\u001b[0m \u001b[0;34m(\u001b[0m\u001b[0mbatch_X\u001b[0m\u001b[0;34m,\u001b[0m \u001b[0mbatch_Y\u001b[0m\u001b[0;34m)\u001b[0m \u001b[0;32min\u001b[0m \u001b[0menumerate\u001b[0m\u001b[0;34m(\u001b[0m\u001b[0mdataloader_valid\u001b[0m\u001b[0;34m)\u001b[0m\u001b[0;34m:\u001b[0m\u001b[0;34m\u001b[0m\u001b[0;34m\u001b[0m\u001b[0m\n\u001b[0;32m---> 38\u001b[0;31m                 \u001b[0;32mif\u001b[0m \u001b[0minput_transpose\u001b[0m\u001b[0;34m:\u001b[0m\u001b[0;34m\u001b[0m\u001b[0;34m\u001b[0m\u001b[0m\n\u001b[0m\u001b[1;32m     39\u001b[0m                     \u001b[0mbatch_X\u001b[0m \u001b[0;34m=\u001b[0m \u001b[0mbatch_X\u001b[0m\u001b[0;34m.\u001b[0m\u001b[0mtranspose\u001b[0m\u001b[0;34m(\u001b[0m\u001b[0;36m1\u001b[0m\u001b[0;34m,\u001b[0m\u001b[0;36m2\u001b[0m\u001b[0;34m)\u001b[0m\u001b[0;34m.\u001b[0m\u001b[0mtranspose\u001b[0m\u001b[0;34m(\u001b[0m\u001b[0;36m0\u001b[0m\u001b[0;34m,\u001b[0m\u001b[0;36m1\u001b[0m\u001b[0;34m)\u001b[0m\u001b[0;34m.\u001b[0m\u001b[0mto\u001b[0m\u001b[0;34m(\u001b[0m\u001b[0mdevice\u001b[0m\u001b[0;34m)\u001b[0m\u001b[0;34m\u001b[0m\u001b[0;34m\u001b[0m\u001b[0m\n\u001b[1;32m     40\u001b[0m                 \u001b[0;32melse\u001b[0m\u001b[0;34m:\u001b[0m\u001b[0;34m\u001b[0m\u001b[0;34m\u001b[0m\u001b[0m\n",
      "\u001b[0;31mNameError\u001b[0m: name 'input_transpose' is not defined"
     ]
    }
   ],
   "source": [
    "TOTAL_EPOCH=10\n",
    "\n",
    "for epoch in range(TOTAL_EPOCH):\n",
    "    train_loss_list=[]\n",
    "    valid_loss_list=[]\n",
    "    for i in range(10):\n",
    "        # train data load\n",
    "        try:\n",
    "            del dataloader_train,dataset_train\n",
    "        except:\n",
    "            pass\n",
    "        dataset_train=DeepSEA_Dataset('data/train_{}.pt'.format(i),'trainxdata','traindata')\n",
    "        dataloader_train=DataLoader(dataset=dataset_train,shuffle=True,batch_size=BATCH_SIZE,num_workers=NUM_WORKERS)\n",
    "\n",
    "        for batch_idx,(batch_X,batch_Y) in enumerate(dataloader_train):\n",
    "            if model.batch_first==False:\n",
    "                batch_X=batch_X.transpose(1,2).transpose(0,1)\n",
    "            batch_X=batch_X.to(device) \n",
    "            batch_Y=batch_Y.to(device)\n",
    "            \n",
    "            # zero the parameter gradients\n",
    "            optimizer.zero_grad()\n",
    "            \n",
    "            # forward + backward + optimize\n",
    "            output=model(batch_X)\n",
    "            loss = loss_function(output, batch_Y)\n",
    "            loss.backward()\n",
    "            optimizer.step()  \n",
    "            \n",
    "            train_loss_list.append(loss.item())\n",
    "            \n",
    "            if batch_idx%100==99:\n",
    "                log.info('epoch: {:d}, dataset_split: {:d}, batch: {:d}, progress: {:.2f}% loss: {:.3f}'.format(epoch,i,batch_idx,100*(i*len(dataloader_train)+batch_idx)/(10*len(dataloader_train)),np.mean(train_loss_list)))\n",
    "                train_loss_list.clear()\n",
    "        \n",
    "        with torch.no_grad():\n",
    "            for batch_idx, (batch_X, batch_Y) in enumerate(dataloader_valid):\n",
    "                if model.batch_first==False:\n",
    "                    batch_X = batch_X.transpose(1,2).transpose(0,1).to(device)\n",
    "                else:\n",
    "                    batch_X = batch_X.to(device)\n",
    "                batch_Y = batch_Y.to(device)\n",
    "\n",
    "                output = model(batch_X)\n",
    "                loss = loss_function(output, batch_Y)\n",
    "                valid_loss_list.append(loss.item())\n",
    "                \n",
    "            print(log.info('epoch: {:d}, dataset_split: {:d}, valid loss: {:.3f}'.format(epoch,i,np.mean(valid_loss_list))))\n",
    "            valid_loss_list.clear()"
   ]
  },
  {
   "cell_type": "code",
   "execution_count": null,
   "metadata": {},
   "outputs": [],
   "source": []
  }
 ],
 "metadata": {
  "kernelspec": {
   "display_name": "Python [conda env:pytorch] *",
   "language": "python",
   "name": "conda-env-pytorch-py"
  },
  "language_info": {
   "codemirror_mode": {
    "name": "ipython",
    "version": 3
   },
   "file_extension": ".py",
   "mimetype": "text/x-python",
   "name": "python",
   "nbconvert_exporter": "python",
   "pygments_lexer": "ipython3",
   "version": "3.6.9"
  }
 },
 "nbformat": 4,
 "nbformat_minor": 4
}
