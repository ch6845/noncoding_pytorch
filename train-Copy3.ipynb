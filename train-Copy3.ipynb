{
 "cells": [
  {
   "cell_type": "code",
   "execution_count": 1,
   "metadata": {},
   "outputs": [],
   "source": [
    "import numpy as np\n",
    "import torch\n",
    "import torch.optim as optim\n",
    "from torch.utils.data import DataLoader\n",
    "\n",
    "from dna_data import DeepSEA_Dataset\n",
    "from model import *"
   ]
  },
  {
   "cell_type": "code",
   "execution_count": 2,
   "metadata": {},
   "outputs": [],
   "source": [
    "import sys\n",
    "import logging\n",
    "import datetime\n",
    "\n",
    "log = logging.getLogger('snowdeer_log')\n",
    "log.setLevel(logging.DEBUG)\n",
    "\n",
    "log_file_name=sys.argv[-1].split('/')[-1].split('.')[-2].split('-')[-1]+'_'+datetime.datetime.now().strftime('%Y%m%d_%H%M%S')+'.log'\n",
    "fileHandler = logging.FileHandler(log_file_name)\n",
    "streamHandler = logging.StreamHandler()\n",
    "\n",
    "formatter = logging.Formatter(' %(asctime)s [%(levelname)s] (%(filename)s:%(lineno)d) > %(message)s')\n",
    "fileHandler.setFormatter(formatter)\n",
    "streamHandler.setFormatter(formatter)\n",
    "\n",
    "log.addHandler(fileHandler)\n",
    "log.addHandler(streamHandler)\n",
    "\n",
    "#log.debug('debug')"
   ]
  },
  {
   "cell_type": "code",
   "execution_count": 3,
   "metadata": {},
   "outputs": [
    {
     "name": "stdout",
     "output_type": "stream",
     "text": [
      "cuda:0\n"
     ]
    }
   ],
   "source": [
    "device = torch.device(\"cuda:0\" if torch.cuda.is_available() else \"cpu\")\n",
    "print(device)"
   ]
  },
  {
   "cell_type": "code",
   "execution_count": 4,
   "metadata": {},
   "outputs": [
    {
     "data": {
      "text/plain": [
       "RNN(\n",
       "  (lstm): LSTM(4, 32, num_layers=2, dropout=0.8, bidirectional=True)\n",
       "  (dropout): Dropout(p=0.8, inplace=False)\n",
       "  (fc): Linear(in_features=128, out_features=919, bias=True)\n",
       ")"
      ]
     },
     "execution_count": 4,
     "metadata": {},
     "output_type": "execute_result"
    }
   ],
   "source": [
    "model=RNN()\n",
    "model.to(device)"
   ]
  },
  {
   "cell_type": "code",
   "execution_count": 5,
   "metadata": {},
   "outputs": [],
   "source": [
    "#optimizer = optim.SGD(model.parameters(), lr=0.01, momentum=0.9,weight_decay=5e-07)\n",
    "optimizer = optim.Adagrad(model.parameters(),weight_decay=5e-07)\n",
    "#scheduler = torch.optim.lr_scheduler.ReduceLROnPlateau(optimizer, patience=5,verbose=1)\n",
    "loss_function = nn.BCEWithLogitsLoss()"
   ]
  },
  {
   "cell_type": "code",
   "execution_count": 6,
   "metadata": {},
   "outputs": [],
   "source": [
    "BATCH_SIZE=100\n",
    "NUM_WORKERS=4\n",
    "\n",
    "dataloader_valid = DataLoader(\n",
    "    dataset=DeepSEA_Dataset('data/valid.mat','validxdata','validdata'), \n",
    "    shuffle=False,\n",
    "    batch_size=BATCH_SIZE,\n",
    "    num_workers=NUM_WORKERS\n",
    ")"
   ]
  },
  {
   "cell_type": "code",
   "execution_count": null,
   "metadata": {},
   "outputs": [
    {
     "name": "stderr",
     "output_type": "stream",
     "text": [
      " 2019-12-30 02:48:39,377 [INFO] (<ipython-input-7-c013bdf76e82>:33) > epoch: 0, dataset_split: 0, batch: 99, progress: 0.23% loss: 0.131\n",
      " 2019-12-30 02:48:56,050 [INFO] (<ipython-input-7-c013bdf76e82>:33) > epoch: 0, dataset_split: 0, batch: 199, progress: 0.45% loss: 0.102\n",
      " 2019-12-30 02:49:12,572 [INFO] (<ipython-input-7-c013bdf76e82>:33) > epoch: 0, dataset_split: 0, batch: 299, progress: 0.68% loss: 0.101\n",
      " 2019-12-30 02:49:29,057 [INFO] (<ipython-input-7-c013bdf76e82>:33) > epoch: 0, dataset_split: 0, batch: 399, progress: 0.91% loss: 0.104\n",
      " 2019-12-30 02:49:45,548 [INFO] (<ipython-input-7-c013bdf76e82>:33) > epoch: 0, dataset_split: 0, batch: 499, progress: 1.13% loss: 0.101\n",
      " 2019-12-30 02:50:02,255 [INFO] (<ipython-input-7-c013bdf76e82>:33) > epoch: 0, dataset_split: 0, batch: 599, progress: 1.36% loss: 0.099\n",
      " 2019-12-30 02:50:19,036 [INFO] (<ipython-input-7-c013bdf76e82>:33) > epoch: 0, dataset_split: 0, batch: 699, progress: 1.59% loss: 0.101\n",
      " 2019-12-30 02:50:35,621 [INFO] (<ipython-input-7-c013bdf76e82>:33) > epoch: 0, dataset_split: 0, batch: 799, progress: 1.82% loss: 0.100\n",
      " 2019-12-30 02:50:51,863 [INFO] (<ipython-input-7-c013bdf76e82>:33) > epoch: 0, dataset_split: 0, batch: 899, progress: 2.04% loss: 0.102\n",
      " 2019-12-30 02:51:08,233 [INFO] (<ipython-input-7-c013bdf76e82>:33) > epoch: 0, dataset_split: 0, batch: 999, progress: 2.27% loss: 0.101\n",
      " 2019-12-30 02:51:24,911 [INFO] (<ipython-input-7-c013bdf76e82>:33) > epoch: 0, dataset_split: 0, batch: 1099, progress: 2.50% loss: 0.100\n",
      " 2019-12-30 02:51:41,791 [INFO] (<ipython-input-7-c013bdf76e82>:33) > epoch: 0, dataset_split: 0, batch: 1199, progress: 2.73% loss: 0.101\n",
      " 2019-12-30 02:51:58,011 [INFO] (<ipython-input-7-c013bdf76e82>:33) > epoch: 0, dataset_split: 0, batch: 1299, progress: 2.95% loss: 0.099\n",
      " 2019-12-30 02:52:14,917 [INFO] (<ipython-input-7-c013bdf76e82>:33) > epoch: 0, dataset_split: 0, batch: 1399, progress: 3.18% loss: 0.100\n",
      " 2019-12-30 02:52:31,320 [INFO] (<ipython-input-7-c013bdf76e82>:33) > epoch: 0, dataset_split: 0, batch: 1499, progress: 3.41% loss: 0.099\n",
      " 2019-12-30 02:52:47,696 [INFO] (<ipython-input-7-c013bdf76e82>:33) > epoch: 0, dataset_split: 0, batch: 1599, progress: 3.63% loss: 0.101\n"
     ]
    }
   ],
   "source": [
    "TOTAL_EPOCH=10\n",
    "\n",
    "for epoch in range(TOTAL_EPOCH):\n",
    "    train_loss_list=[]\n",
    "    valid_loss_list=[]\n",
    "    for i in range(10):\n",
    "        # train data load\n",
    "        try:\n",
    "            del dataloader_train,dataset_train\n",
    "        except:\n",
    "            pass\n",
    "        dataset_train=DeepSEA_Dataset('data/train_{}.pt'.format(i),'trainxdata','traindata')\n",
    "        dataloader_train=DataLoader(dataset=dataset_train,shuffle=True,batch_size=BATCH_SIZE,num_workers=NUM_WORKERS)\n",
    "\n",
    "        for batch_idx,(batch_X,batch_Y) in enumerate(dataloader_train):\n",
    "            if model.batch_first==False:\n",
    "                batch_X=batch_X.transpose(1,2).transpose(0,1)\n",
    "            batch_X=batch_X.to(device) \n",
    "            batch_Y=batch_Y.to(device)\n",
    "            \n",
    "            # zero the parameter gradients\n",
    "            optimizer.zero_grad()\n",
    "            \n",
    "            # forward + backward + optimize\n",
    "            output=model(batch_X)\n",
    "            loss = loss_function(output, batch_Y)\n",
    "            loss.backward()\n",
    "            optimizer.step()  \n",
    "            \n",
    "            train_loss_list.append(loss.item())\n",
    "            \n",
    "            if batch_idx%100==99:\n",
    "                log.info('epoch: {:d}, dataset_split: {:d}, batch: {:d}, progress: {:.2f}% loss: {:.3f}'.format(epoch,i,batch_idx,100*(i*len(dataloader_train)+batch_idx)/(10*len(dataloader_train)),np.mean(train_loss_list)))\n",
    "                train_loss_list.clear()\n",
    "        \n",
    "        with torch.no_grad():\n",
    "            for batch_idx, (batch_X, batch_Y) in enumerate(dataloader_valid):\n",
    "                if model.batch_first==False:\n",
    "                    batch_X = batch_X.transpose(1,2).transpose(0,1).to(device)\n",
    "                else:\n",
    "                    batch_X = batch_X.to(device)\n",
    "                batch_Y = batch_Y.to(device)\n",
    "\n",
    "                output = model(batch_X)\n",
    "                loss = loss_function(output, batch_Y)\n",
    "                valid_loss_list.append(loss.item())\n",
    "                \n",
    "            print(log.info('epoch: {:d}, dataset_split: {:d}, valid loss: {:.3f}'.format(epoch,i,np.mean(valid_loss_list))))\n",
    "            valid_loss_list.clear()"
   ]
  },
  {
   "cell_type": "code",
   "execution_count": null,
   "metadata": {},
   "outputs": [],
   "source": []
  }
 ],
 "metadata": {
  "kernelspec": {
   "display_name": "Python [conda env:pytorch] *",
   "language": "python",
   "name": "conda-env-pytorch-py"
  },
  "language_info": {
   "codemirror_mode": {
    "name": "ipython",
    "version": 3
   },
   "file_extension": ".py",
   "mimetype": "text/x-python",
   "name": "python",
   "nbconvert_exporter": "python",
   "pygments_lexer": "ipython3",
   "version": "3.6.9"
  }
 },
 "nbformat": 4,
 "nbformat_minor": 4
}
